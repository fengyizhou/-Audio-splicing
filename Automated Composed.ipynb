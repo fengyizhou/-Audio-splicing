{
 "cells": [
  {
   "cell_type": "code",
   "execution_count": 41,
   "metadata": {},
   "outputs": [],
   "source": [
    "import librosa\n",
    "import os\n",
    "import random as rd\n",
    "from random import choice\n",
    "from random import sample\n",
    "import numpy as np"
   ]
  },
  {
   "cell_type": "code",
   "execution_count": 42,
   "metadata": {},
   "outputs": [],
   "source": [
    "#定义output的目录路径\n",
    "output_path = r\"C:/Users/58450/My Code/Automated Composition/测试音频\""
   ]
  },
  {
   "cell_type": "code",
   "execution_count": 43,
   "metadata": {},
   "outputs": [],
   "source": [
    "#定义不同Genre的目录路径\n",
    "Rock = \"E:/重点工作/自动作曲_fengyi/模板/摇滚_a小_128bpm\"\n",
    "EDM = \"E:/重点工作/自动作曲_fengyi/模板/电子_a小_128bpm\""
   ]
  },
  {
   "cell_type": "code",
   "execution_count": 44,
   "metadata": {},
   "outputs": [],
   "source": [
    "#定义一个Au_Once函数\n",
    "#输入：风格目录路径\n",
    "#输出：导出一个风格目录路径中音频拼接的wav文件，每个文件只能被拼接一次\n",
    "def Au_Once(genre):\n",
    "    genre_path = genre\n",
    "    pattern_list = os.listdir(genre_path)\n",
    "    pattern_list.remove('end.wav')\n",
    "    rd.shuffle(pattern_list)\n",
    "    audio_once = None\n",
    "    for file in pattern_list:\n",
    "        pattern_file = os.path.join(genre_path, file)\n",
    "        k, sr = librosa.load(pattern_file, sr = 44100, mono=False)\n",
    "        if audio_once is None:\n",
    "            audio_once = k\n",
    "        else:\n",
    "            audio_once = np.hstack((audio_once, k))\n",
    "    end_file = os.path.join(genre_path, \"end.wav\")\n",
    "    k, sr = librosa.load(end_file, sr = 44100, mono=False)\n",
    "    audio_once = np.hstack((audio_once, k))\n",
    "    print(audio_once)\n",
    "    output_file = os.path.join(output_path, \"once_test1.wav\")\n",
    "    librosa.output.write_wav(output_file, audio_once, sr = 44100)"
   ]
  },
  {
   "cell_type": "code",
   "execution_count": 45,
   "metadata": {},
   "outputs": [],
   "source": [
    "#定义一个Au_Random函数\n",
    "#输入：风格目录路径\n",
    "#输出：导出一个pattern数为10，用风格目录路径下的音频随机拼接的wav文件\n",
    "\n",
    "def Au_Random(genre):\n",
    "    genre_path = genre\n",
    "    pattern_list = os.listdir(genre_path)\n",
    "    pattern_list.remove('end.wav')\n",
    "    random_au_li = np.random.randint(0,len(pattern_list), size=10) # 生成长度为10的随机数组，范围为 [0,10)，作为索引\n",
    "    random_pattern_li = [pattern_list[i] for i in random_au_li] # 按照索引，去l中获取到对应的值\n",
    "    audio_random = None\n",
    "    for file in random_pattern_li:\n",
    "        pattern_file = os.path.join(genre_path, file)\n",
    "        k, sr = librosa.load(pattern_file, sr = 44100, mono=False)\n",
    "        if audio_random is None:\n",
    "            audio_random = k\n",
    "        else:\n",
    "            audio_random = np.hstack((audio_random, k))\n",
    "    end_file = os.path.join(genre_path, \"end.wav\")\n",
    "    k, sr = librosa.load(end_file, sr = 44100, mono=False)\n",
    "    audio_random = np.hstack((audio_random, k))\n",
    "    print(audio_random)\n",
    "    output_file = os.path.join(output_path, \"random_test1.wav\")\n",
    "    librosa.output.write_wav(output_file, audio_random, sr = 44100)"
   ]
  },
  {
   "cell_type": "code",
   "execution_count": 46,
   "metadata": {},
   "outputs": [],
   "source": [
    "#定义一个Genre_Remix_random函数\n",
    "#输入：第一个风格目录路径、第二个风格目录路径\n",
    "#输出：导出一个pattern数量为10，用两个风格目录路径下的音频随机拼接的wav文件\n",
    "\n",
    "def Genre_Remix_random(first_genre, second_genre):\n",
    "    first_genre_path = first_genre\n",
    "    second_genre_path = second_genre\n",
    "    i = 0\n",
    "    genre_list = [first_genre_path, second_genre_path]\n",
    "    audio_remix = None\n",
    "    while i<10:\n",
    "        genre_path = choice(genre_list)\n",
    "        genre_path_li = os.listdir(genre_path)\n",
    "        genre_path_li.remove('end.wav')\n",
    "        pattern_file = os.path.join(genre_path, choice(genre_path_li))\n",
    "        k, sr = librosa.load(pattern_file, sr = 44100, mono=False)\n",
    "        if audio_remix is None:\n",
    "            audio_remix = k\n",
    "        else:\n",
    "            audio_remix = np.hstack((audio_remix, k))\n",
    "        i += 1\n",
    "    genre_path = choice(genre_list)\n",
    "    end_file = os.path.join(genre_path, \"end.wav\")\n",
    "    k, sr = librosa.load(end_file, sr = 44100, mono=False)\n",
    "    audio_remix = np.hstack((audio_remix, k))\n",
    "    output_file = os.path.join(output_path, \"random_remix_test1.wav\")\n",
    "    librosa.output.write_wav(output_file, audio_remix, sr = 44100)"
   ]
  },
  {
   "cell_type": "code",
   "execution_count": 47,
   "metadata": {},
   "outputs": [],
   "source": [
    "#定义一个Genre_Remix_Arrangement函数\n",
    "#输入：第一个风格目录路径、第二个风格目录路径\n",
    "#输出：第一个风格目录下的音频拼接前5个pattern，第二个风格目录下的音频拼接后5个pattern，导出的一个wav文件\n",
    "\n",
    "def Genre_Remix_Arrangement(first_genre, second_genre):\n",
    "    first_genre_path = first_genre\n",
    "    second_genre_path = second_genre\n",
    "    first_genre_li = os.listdir(first_genre_path)\n",
    "    second_genre_li = os.listdir(second_genre_path)\n",
    "    first_genre_li.remove(\"end.wav\")\n",
    "    second_genre_li.remove(\"end.wav\")\n",
    "    audio_remix = None\n",
    "    first_random_au_li = np.random.randint(0,len(first_genre_li), size=5) # 生成长度为5的随机数组，范围为 [0,10)，作为索引\n",
    "    first_random_pattern_li = [first_genre_li[i] for i in first_random_au_li] # 按照索引，去l中获取到对应的值\n",
    "    for file in first_random_pattern_li:\n",
    "        pattern_file = os.path.join(first_genre_path, file)\n",
    "        k, sr = librosa.load(pattern_file, sr = 44100, mono=False)\n",
    "        if audio_remix is None:\n",
    "            audio_remix = k\n",
    "        else:\n",
    "            audio_remix = np.hstack((audio_remix, k))\n",
    "    second_random_au_li = np.random.randint(0,len(second_genre_li), size=5) # 生成长度为5的随机数组，范围为 [0,10)，作为索引\n",
    "    second_random_pattern_li = [second_genre_li[o] for o in second_random_au_li] # 按照索引，去l中获取到对应的值\n",
    "    for file in second_random_pattern_li:\n",
    "        pattern_file = os.path.join(second_genre_path, file)\n",
    "        k, sr = librosa.load(pattern_file, sr = 44100, mono=False)\n",
    "        if audio_remix is None:\n",
    "            audio_remix = k\n",
    "        else:\n",
    "            audio_remix = np.hstack((audio_remix, k))\n",
    "    end_file = os.path.join(second_genre_path, \"end.wav\")\n",
    "    k, sr = librosa.load(end_file, sr = 44100, mono=False)\n",
    "    audio_remix = np.hstack((audio_remix, k))\n",
    "    output_file = os.path.join(output_path, \"remix_test1.wav\")\n",
    "    librosa.output.write_wav(output_file, audio_remix, sr = 44100)"
   ]
  },
  {
   "cell_type": "code",
   "execution_count": 56,
   "metadata": {},
   "outputs": [
    {
     "name": "stdout",
     "output_type": "stream",
     "text": [
      "[[-3.4179688e-03 -6.3476562e-03 -1.9378662e-02 ...  3.0517578e-05\n",
      "   0.0000000e+00  0.0000000e+00]\n",
      " [-1.0314941e-02 -2.9602051e-03  1.0498047e-02 ... -3.0517578e-05\n",
      "  -3.0517578e-05  0.0000000e+00]]\n"
     ]
    }
   ],
   "source": [
    "#模式1\n",
    "Au_Once(EDM)"
   ]
  },
  {
   "cell_type": "code",
   "execution_count": 57,
   "metadata": {},
   "outputs": [
    {
     "name": "stdout",
     "output_type": "stream",
     "text": [
      "[[-2.1514893e-02 -2.2064209e-02 -1.4617920e-02 ... -3.0517578e-05\n",
      "  -3.0517578e-05 -3.0517578e-05]\n",
      " [-2.2460938e-02 -2.7465820e-02 -2.1820068e-02 ... -3.0517578e-05\n",
      "  -3.0517578e-05 -3.0517578e-05]]\n"
     ]
    }
   ],
   "source": [
    "#模式2\n",
    "Au_Random(Rock)"
   ]
  },
  {
   "cell_type": "code",
   "execution_count": 58,
   "metadata": {},
   "outputs": [],
   "source": [
    "#模式3\n",
    "Genre_Remix_random(EDM, Rock)"
   ]
  },
  {
   "cell_type": "code",
   "execution_count": 59,
   "metadata": {},
   "outputs": [],
   "source": [
    "#模式4\n",
    "Genre_Remix_Arrangement(EDM, Rock)"
   ]
  }
 ],
 "metadata": {
  "kernelspec": {
   "display_name": "Python 3",
   "language": "python",
   "name": "python3"
  },
  "language_info": {
   "codemirror_mode": {
    "name": "ipython",
    "version": 3
   },
   "file_extension": ".py",
   "mimetype": "text/x-python",
   "name": "python",
   "nbconvert_exporter": "python",
   "pygments_lexer": "ipython3",
   "version": "3.7.1"
  }
 },
 "nbformat": 4,
 "nbformat_minor": 2
}
